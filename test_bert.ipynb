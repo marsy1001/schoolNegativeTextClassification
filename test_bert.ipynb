{
 "cells": [
  {
   "cell_type": "markdown",
   "id": "6068f7f6-65e9-417d-9e05-0bba93faf9b5",
   "metadata": {},
   "source": [
    "# Import libraries"
   ]
  },
  {
   "cell_type": "code",
   "execution_count": null,
   "id": "593b6cd8-4571-4813-8a6d-37c99aa6a957",
   "metadata": {},
   "outputs": [],
   "source": [
    "import pickle\n",
    "import torch\n",
    "from transformers import BertModel\n",
    "from transformers import BertJapaneseTokenizer, BertTokenizer\n",
    "import random\n",
    "import pandas as pd\n",
    "import torch.nn as nn\n",
    "import numpy as np\n",
    "from torch.utils.data import DataLoader, RandomSampler, SequentialSampler\n",
    "from torch.utils.data import TensorDataset\n",
    "from transformers import BertForSequenceClassification, AdamW, BertConfig\n",
    "from transformers import get_linear_schedule_with_warmup\n",
    "import random\n",
    "import numpy as np\n",
    "from tqdm import tqdm_notebook as tqdm\n",
    "from tqdm import tqdm\n",
    "from codecarbon import EmissionsTracker"
   ]
  },
  {
   "cell_type": "markdown",
   "id": "75953097-24a7-48bc-8906-a83937403e8c",
   "metadata": {},
   "source": [
    "# Define variables"
   ]
  },
  {
   "cell_type": "code",
   "execution_count": null,
   "id": "30a53acf-b71b-4415-ba31-059db888fd37",
   "metadata": {},
   "outputs": [],
   "source": [
    "MODEL_NAME = \"cl-tohoku/bert-base-japanese\"\n",
    "\n",
    "MAX_SEQ_LEN = 512\n",
    "BATCH_SIZE = 10\n",
    "\n",
    "EPOCHS = 3\n",
    "\n",
    "SEED = 42\n",
    "\n",
    "DATA_DIR = \"test\"\n",
    "MODEL_DIR = \"models\"\n",
    "\n",
    "DEVICE = torch.device(\"cuda\" if torch.cuda.is_available() else \"cpu\")"
   ]
  },
  {
   "cell_type": "markdown",
   "id": "945e0495-6ef5-4c12-9eb9-230187ee3f96",
   "metadata": {},
   "source": [
    "# Randomize seed"
   ]
  },
  {
   "cell_type": "code",
   "execution_count": null,
   "id": "f8519d77-220d-4478-ad97-3b56025c78b5",
   "metadata": {},
   "outputs": [],
   "source": [
    "torch.manual_seed(SEED)\n",
    "if torch.cuda.is_available():\n",
    "    torch.cuda.manual_seed(SEED)\n",
    "    torch.cuda.manual_seed_all(SEED)\n",
    "np.random.seed(SEED)\n",
    "random.seed(SEED)"
   ]
  },
  {
   "cell_type": "markdown",
   "id": "bfda01ed-8190-4c51-bec7-e20c00269161",
   "metadata": {},
   "source": [
    "# Load model and weight"
   ]
  },
  {
   "cell_type": "code",
   "execution_count": null,
   "id": "44d70c91-7f9c-41ab-b0a2-c2f37b13ce35",
   "metadata": {
    "tags": []
   },
   "outputs": [],
   "source": [
    "config = BertConfig.from_pretrained(MODEL_NAME,num_labels=2, output_hidden_states = True)\n",
    "\n",
    "model = BertForSequenceClassification.from_pretrained(MODEL_NAME, config=config)\n",
    "model.load_state_dict(torch.load(f\"{MODEL_DIR}/model_{EPOCHS}.pth\"))\n",
    "\n",
    "model.to(DEVICE)\n",
    "\n",
    "model.eval()\n",
    "\n",
    "tokenizer = BertJapaneseTokenizer.from_pretrained(MODEL_NAME)"
   ]
  },
  {
   "cell_type": "markdown",
   "id": "23f4df49-0c1f-4a93-8041-1ebfa5adbce9",
   "metadata": {},
   "source": [
    "# Validate single text"
   ]
  },
  {
   "cell_type": "code",
   "execution_count": null,
   "id": "cd950784-e608-4197-ab91-c41b6aa6a386",
   "metadata": {},
   "outputs": [],
   "source": [
    "text = \"いじめられている、もう本当に死にたいんだ。\""
   ]
  },
  {
   "cell_type": "code",
   "execution_count": null,
   "id": "cab76a90-22e1-4429-881d-1b09769afb05",
   "metadata": {},
   "outputs": [],
   "source": [
    "inputs = tokenizer.encode_plus(text,\n",
    "                               add_special_tokens = True,\n",
    "                               return_attention_mask = True, \n",
    "                               padding = \"max_length\",\n",
    "                               max_length = MAX_SEQ_LEN,\n",
    "                               return_tensors='pt'\n",
    ")\n",
    "\n",
    "inputs.to(DEVICE)\n",
    "\n",
    "with torch.no_grad():\n",
    "    outputs = model(**inputs)\n"
   ]
  },
  {
   "cell_type": "code",
   "execution_count": null,
   "id": "3ead77cc-747d-40b1-8af3-848c618b8ab6",
   "metadata": {},
   "outputs": [],
   "source": [
    "outputs.logits"
   ]
  },
  {
   "cell_type": "code",
   "execution_count": null,
   "id": "c66fce38-d1ce-40f4-a0a4-ef03d87523e0",
   "metadata": {},
   "outputs": [],
   "source": [
    "softmax = nn.Softmax(dim=1)\n",
    "pred = softmax(outputs.logits)"
   ]
  },
  {
   "cell_type": "code",
   "execution_count": null,
   "id": "86ba1caa-efd5-4615-a84a-5492183a92b1",
   "metadata": {},
   "outputs": [],
   "source": [
    "pred.cpu().numpy()[0][1]"
   ]
  },
  {
   "cell_type": "code",
   "execution_count": null,
   "id": "f0d27967-bc6e-4497-a093-6ad9fe7dea10",
   "metadata": {},
   "outputs": [],
   "source": [
    "outputs[1][-2].cpu().numpy()[0]"
   ]
  },
  {
   "cell_type": "markdown",
   "id": "d9fe2010-fab4-4815-92a6-c27a9548a574",
   "metadata": {},
   "source": [
    "# Validate multi texts"
   ]
  },
  {
   "cell_type": "code",
   "execution_count": null,
   "id": "e6cbbb32-9eba-4b85-ae71-aaedf468a30e",
   "metadata": {},
   "outputs": [],
   "source": [
    "input_ids = []\n",
    "attention_masks = []\n",
    "labels = []\n",
    "\n",
    "df = pd.read_csv(f\"{DATA_DIR}/test.csv\", lineterminator=\"\\n\").dropna()\n",
    "\n",
    "encoded_data_test = tokenizer.batch_encode_plus(\n",
    "    df[\"Text\"].values,\n",
    "    add_special_tokens = True, \n",
    "    return_attention_mask = True, \n",
    "    padding = \"max_length\", \n",
    "    max_length = MAX_SEQ_LEN, \n",
    "    return_tensors = 'pt',\n",
    "    truncation = True\n",
    ")\n",
    "\n",
    "input_ids = encoded_data_test['input_ids']\n",
    "attention_masks = encoded_data_test['attention_mask']\n",
    "labels = torch.tensor(df[\"Label\"].values)\n",
    "\n",
    "test_dataset = TensorDataset(input_ids, attention_masks, labels)\n",
    "test_dataloader = DataLoader(\n",
    "            test_dataset,\n",
    "            shuffle=False, \n",
    "            batch_size = BATCH_SIZE,\n",
    ")"
   ]
  },
  {
   "cell_type": "markdown",
   "id": "d79b64d7-62ea-4e6c-a1db-2d8aab761e9a",
   "metadata": {},
   "source": [
    "# Pred class"
   ]
  },
  {
   "cell_type": "code",
   "execution_count": null,
   "id": "076b9bbb-7063-4f23-b1fa-18ca42b8643b",
   "metadata": {},
   "outputs": [],
   "source": [
    "pred = []\n",
    "true = []\n",
    "\n",
    "for batch in test_dataloader:\n",
    "    batch = tuple(b.to(DEVICE) for b in batch)\n",
    "    \n",
    "    b_input_ids = batch[0]\n",
    "    b_input_mask = batch[1]\n",
    "    b_labels = batch[2]\n",
    "\n",
    "    with torch.no_grad():\n",
    "        output = model(b_input_ids, token_type_ids=None, attention_mask=b_input_mask)\n",
    "        pred.append(output)\n",
    "        true.append(b_labels)"
   ]
  },
  {
   "cell_type": "markdown",
   "id": "409d792e-31b3-4a08-99d3-e8af15213634",
   "metadata": {},
   "source": [
    "# Visualize pred result"
   ]
  },
  {
   "cell_type": "code",
   "execution_count": null,
   "id": "1b499d9a-e6d0-4274-80ab-eb85035629b7",
   "metadata": {},
   "outputs": [],
   "source": [
    "softmax = nn.Softmax(dim=1)\n",
    "\n",
    "for i in range(len(pred)):\n",
    "    df_logits = pd.DataFrame(pred[i][0].cpu().numpy(), columns={\"logits0\", \"logits1\"})\n",
    "    \n",
    "    df_pred = pd.DataFrame(np.argmax(pred[i][0].cpu().numpy(), axis=1), columns={\"pred_label\"})\n",
    "    df_label = pd.DataFrame(true[i].cpu().numpy(), columns={\"true_label\"})\n",
    "    df_tmp = pd.concat([df_logits, df_pred, df_label], axis=1)\n",
    "    \n",
    "    if i==0:\n",
    "        df_result = df_tmp.copy()\n",
    "    else:\n",
    "        df_result = pd.concat([df_tmp, df_result], axis=0, ignore_index=True)"
   ]
  },
  {
   "cell_type": "code",
   "execution_count": null,
   "id": "cf477726-1f5a-4c7f-b3ca-004c2e047879",
   "metadata": {},
   "outputs": [],
   "source": [
    "df_result"
   ]
  },
  {
   "cell_type": "code",
   "execution_count": null,
   "id": "91eb00b4-2a6b-4227-89ef-1406b90e45eb",
   "metadata": {},
   "outputs": [],
   "source": [
    "from sklearn.metrics import classification_report\n",
    "from sklearn.metrics import mean_absolute_error\n",
    "\n",
    "print(classification_report(df_result[\"true_label\"], df_result[\"pred_label\"]))\n",
    "\n",
    "mae = mean_absolute_error(df_result[\"true_label\"], df_result[\"pred_label\"])\n",
    "print('MAE : {:.3f}'.format(mae))"
   ]
  },
  {
   "cell_type": "markdown",
   "id": "78f10d3f-ddfc-48ef-9681-3367dd8f690f",
   "metadata": {},
   "source": [
    "# mapping data"
   ]
  },
  {
   "cell_type": "code",
   "execution_count": null,
   "id": "657b6ff6-709b-4746-b366-d5b2ed9eb637",
   "metadata": {},
   "outputs": [],
   "source": [
    "vectors = []\n",
    "\n",
    "for i in range(len(pred)):\n",
    "    #print(pred[i][1][-2].cpu().numpy()[0])\n",
    "    if i == 0:\n",
    "        vectors = pred[i][1][-2].cpu().numpy()[0].reshape(-1,768)\n",
    "    else:\n",
    "        vectors = vectors + pred[i][1][-2].cpu().numpy()[0].reshape(-1,768)"
   ]
  },
  {
   "cell_type": "code",
   "execution_count": null,
   "id": "7109d90f-0632-4a7d-b5e2-e4c8e3b3338c",
   "metadata": {},
   "outputs": [],
   "source": [
    "vectors"
   ]
  },
  {
   "cell_type": "code",
   "execution_count": null,
   "id": "8ebc8267-23f1-49f1-a2b0-1c6d7282fc65",
   "metadata": {},
   "outputs": [],
   "source": [
    "import matplotlib.pyplot as plt\n",
    "\n",
    "from sklearn.manifold import TSNE"
   ]
  },
  {
   "cell_type": "code",
   "execution_count": null,
   "id": "9ef8b79e-8a1c-4dbc-8150-32da15f84825",
   "metadata": {},
   "outputs": [],
   "source": [
    "#t-SNE\n",
    "tsne = TSNE(n_components=2, random_state=0)\n",
    "\n",
    "X_tsne = tsne.fit_transform(vectors)\n",
    "\n",
    "fig = plt.figure(figsize=(10,10))\n",
    "ax = fig.add_subplot(111)\n",
    "\n",
    "ax.scatter(X_tsne[0:10:, 0], X_tsne[0:10, 1], label='P')\n",
    "ax.scatter(X_tsne[10:20, 0], X_tsne[10:20, 1], label='N')\n",
    "\n",
    "ax.set_title('Pred result t-SNE', size=16)\n",
    "\n",
    "ax.legend(loc='best', fontsize=14)\n",
    "\n",
    "plt.show()"
   ]
  },
  {
   "cell_type": "code",
   "execution_count": null,
   "id": "6751f535-b611-4f01-851e-2c6e9508026c",
   "metadata": {},
   "outputs": [],
   "source": []
  },
  {
   "cell_type": "code",
   "execution_count": null,
   "id": "f7c54fb9-0891-4d97-b307-290c3ed419bb",
   "metadata": {},
   "outputs": [],
   "source": []
  }
 ],
 "metadata": {
  "environment": {
   "kernel": "python3",
   "name": "common-cu110.m102",
   "type": "gcloud",
   "uri": "gcr.io/deeplearning-platform-release/base-cu110:m102"
  },
  "kernelspec": {
   "display_name": "Python 3 (ipykernel)",
   "language": "python",
   "name": "python3"
  },
  "language_info": {
   "codemirror_mode": {
    "name": "ipython",
    "version": 3
   },
   "file_extension": ".py",
   "mimetype": "text/x-python",
   "name": "python",
   "nbconvert_exporter": "python",
   "pygments_lexer": "ipython3",
   "version": "3.9.18"
  }
 },
 "nbformat": 4,
 "nbformat_minor": 5
}
